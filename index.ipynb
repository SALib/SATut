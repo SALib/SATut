{
 "cells": [
  {
   "cell_type": "markdown",
   "metadata": {},
   "source": [
    "# Notebook Tutorials\n",
    "\n",
    "[DMDU 2019](./Using%20SA%20to%20Interrogate%20Models/DMDU_2019_Introduction_to_SALib.ipynb)\n",
    "\n",
    "[Using Sensitivity Analysis to Interrogate Models](./Using%20SA%20to%20Interrogate%20Models/Using%20Sensitivity%20Analysis.ipynb)"
   ]
  }
 ],
 "metadata": {
  "kernelspec": {
   "display_name": "Python 3",
   "language": "python",
   "name": "python3"
  },
  "language_info": {
   "codemirror_mode": {
    "name": "ipython",
    "version": 3
   },
   "file_extension": ".py",
   "mimetype": "text/x-python",
   "name": "python",
   "nbconvert_exporter": "python",
   "pygments_lexer": "ipython3",
   "version": "3.7.3"
  }
 },
 "nbformat": 4,
 "nbformat_minor": 1
}
